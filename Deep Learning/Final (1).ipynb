{
  "cells": [
    {
      "cell_type": "code",
      "execution_count": 37,
      "metadata": {
        "execution": {
          "iopub.execute_input": "2020-09-23T00:11:56.338306Z",
          "iopub.status.busy": "2020-09-23T00:11:56.337617Z",
          "iopub.status.idle": "2020-09-23T00:12:03.150200Z",
          "shell.execute_reply": "2020-09-23T00:12:03.150753Z"
        },
        "id": "dzLKpmZICaWN",
        "colab": {
          "base_uri": "https://localhost:8080/"
        },
        "outputId": "fbe0a1e9-fa1e-4b13-bfd3-0e672b2607fe"
      },
      "outputs": [
        {
          "output_type": "stream",
          "name": "stdout",
          "text": [
            "2.14.0\n"
          ]
        }
      ],
      "source": [
        "# TensorFlow y tf.keras\n",
        "import tensorflow as tf\n",
        "from tensorflow import keras\n",
        "\n",
        "# Librerias de ayuda\n",
        "import numpy as np\n",
        "import matplotlib.pyplot as plt\n",
        "\n",
        "print(tf.__version__)"
      ]
    },
    {
      "cell_type": "code",
      "execution_count": 38,
      "metadata": {
        "execution": {
          "iopub.execute_input": "2020-09-23T00:12:03.156630Z",
          "iopub.status.busy": "2020-09-23T00:12:03.154908Z",
          "iopub.status.idle": "2020-09-23T00:12:04.600741Z",
          "shell.execute_reply": "2020-09-23T00:12:04.600139Z"
        },
        "id": "7MqDQO0KCaWS"
      },
      "outputs": [],
      "source": [
        "fashion_mnist = keras.datasets.fashion_mnist\n",
        "\n",
        "(train_images, train_labels), (test_images, test_labels) = fashion_mnist.load_data()"
      ]
    },
    {
      "cell_type": "code",
      "execution_count": 39,
      "metadata": {
        "execution": {
          "iopub.execute_input": "2020-09-23T00:12:04.605691Z",
          "iopub.status.busy": "2020-09-23T00:12:04.605005Z",
          "iopub.status.idle": "2020-09-23T00:12:04.607235Z",
          "shell.execute_reply": "2020-09-23T00:12:04.606589Z"
        },
        "id": "IjnLH5S2CaWx"
      },
      "outputs": [],
      "source": [
        "class_names = ['T-shirt/top', 'Trouser', 'Pullover', 'Dress', 'Coat',\n",
        "               'Sandal', 'Shirt', 'Sneaker', 'Bag', 'Ankle boot']"
      ]
    },
    {
      "cell_type": "code",
      "execution_count": 40,
      "metadata": {
        "execution": {
          "iopub.execute_input": "2020-09-23T00:12:04.612889Z",
          "iopub.status.busy": "2020-09-23T00:12:04.612214Z",
          "iopub.status.idle": "2020-09-23T00:12:04.615425Z",
          "shell.execute_reply": "2020-09-23T00:12:04.615926Z"
        },
        "id": "zW5k_xz1CaWX",
        "colab": {
          "base_uri": "https://localhost:8080/"
        },
        "outputId": "2e9e6854-8cef-48c9-8e90-a31c7b842303"
      },
      "outputs": [
        {
          "output_type": "execute_result",
          "data": {
            "text/plain": [
              "(60000, 28, 28)"
            ]
          },
          "metadata": {},
          "execution_count": 40
        }
      ],
      "source": [
        "train_images.shape"
      ]
    },
    {
      "cell_type": "code",
      "execution_count": 41,
      "metadata": {
        "execution": {
          "iopub.execute_input": "2020-09-23T00:12:04.619917Z",
          "iopub.status.busy": "2020-09-23T00:12:04.619263Z",
          "iopub.status.idle": "2020-09-23T00:12:04.622504Z",
          "shell.execute_reply": "2020-09-23T00:12:04.621929Z"
        },
        "id": "TRFYHB2mCaWb",
        "colab": {
          "base_uri": "https://localhost:8080/"
        },
        "outputId": "4a6f4549-c921-4644-f191-33f80f9a8324"
      },
      "outputs": [
        {
          "output_type": "execute_result",
          "data": {
            "text/plain": [
              "60000"
            ]
          },
          "metadata": {},
          "execution_count": 41
        }
      ],
      "source": [
        "len(train_labels)"
      ]
    },
    {
      "cell_type": "code",
      "execution_count": 42,
      "metadata": {
        "execution": {
          "iopub.execute_input": "2020-09-23T00:12:04.626690Z",
          "iopub.status.busy": "2020-09-23T00:12:04.626075Z",
          "iopub.status.idle": "2020-09-23T00:12:04.629060Z",
          "shell.execute_reply": "2020-09-23T00:12:04.628553Z"
        },
        "id": "XKnCTHz4CaWg",
        "colab": {
          "base_uri": "https://localhost:8080/"
        },
        "outputId": "622a15ab-67b3-446b-b1b2-d06b3305d3a0"
      },
      "outputs": [
        {
          "output_type": "execute_result",
          "data": {
            "text/plain": [
              "array([9, 0, 0, ..., 3, 0, 5], dtype=uint8)"
            ]
          },
          "metadata": {},
          "execution_count": 42
        }
      ],
      "source": [
        "train_labels"
      ]
    },
    {
      "cell_type": "code",
      "execution_count": 43,
      "metadata": {
        "execution": {
          "iopub.execute_input": "2020-09-23T00:12:04.632971Z",
          "iopub.status.busy": "2020-09-23T00:12:04.632319Z",
          "iopub.status.idle": "2020-09-23T00:12:04.634737Z",
          "shell.execute_reply": "2020-09-23T00:12:04.635201Z"
        },
        "id": "2KFnYlcwCaWl",
        "colab": {
          "base_uri": "https://localhost:8080/"
        },
        "outputId": "0b406057-6dc7-4295-bba7-bf86bcdef82b"
      },
      "outputs": [
        {
          "output_type": "execute_result",
          "data": {
            "text/plain": [
              "(10000, 28, 28)"
            ]
          },
          "metadata": {},
          "execution_count": 43
        }
      ],
      "source": [
        "test_images.shape"
      ]
    },
    {
      "cell_type": "code",
      "execution_count": 44,
      "metadata": {
        "execution": {
          "iopub.execute_input": "2020-09-23T00:12:04.638892Z",
          "iopub.status.busy": "2020-09-23T00:12:04.638288Z",
          "iopub.status.idle": "2020-09-23T00:12:04.641162Z",
          "shell.execute_reply": "2020-09-23T00:12:04.640615Z"
        },
        "id": "iJmPr5-ACaWn",
        "colab": {
          "base_uri": "https://localhost:8080/"
        },
        "outputId": "fc2e1ba5-75f0-4b64-f86b-ee954474f856"
      },
      "outputs": [
        {
          "output_type": "execute_result",
          "data": {
            "text/plain": [
              "10000"
            ]
          },
          "metadata": {},
          "execution_count": 44
        }
      ],
      "source": [
        "len(test_labels)"
      ]
    },
    {
      "cell_type": "code",
      "execution_count": 45,
      "metadata": {
        "execution": {
          "iopub.execute_input": "2020-09-23T00:12:04.662721Z",
          "iopub.status.busy": "2020-09-23T00:12:04.645719Z",
          "iopub.status.idle": "2020-09-23T00:12:04.845607Z",
          "shell.execute_reply": "2020-09-23T00:12:04.846037Z"
        },
        "id": "m4VEw8Ud9Quh",
        "colab": {
          "base_uri": "https://localhost:8080/",
          "height": 430
        },
        "outputId": "44a7fca7-fbaa-451d-bd5a-74aebbaa254e"
      },
      "outputs": [
        {
          "output_type": "display_data",
          "data": {
            "text/plain": [
              "<Figure size 640x480 with 2 Axes>"
            ],
            "image/png": "[encoded data removed]"
          },
          "metadata": {}
        }
      ],
      "source": [
        "plt.figure()\n",
        "plt.imshow(train_images[0])\n",
        "plt.colorbar()\n",
        "plt.grid(False)\n",
        "plt.show()"
      ]
    },
    {
      "cell_type": "code",
      "execution_count": 46,
      "metadata": {
        "execution": {
          "iopub.execute_input": "2020-09-23T00:12:04.850245Z",
          "iopub.status.busy": "2020-09-23T00:12:04.849612Z",
          "iopub.status.idle": "2020-09-23T00:12:05.014795Z",
          "shell.execute_reply": "2020-09-23T00:12:05.015335Z"
        },
        "id": "bW5WzIPlCaWv"
      },
      "outputs": [],
      "source": [
        "train_images = train_images / 255.0\n",
        "\n",
        "test_images = test_images / 255.0"
      ]
    },
    {
      "cell_type": "code",
      "execution_count": 47,
      "metadata": {
        "execution": {
          "iopub.execute_input": "2020-09-23T00:12:05.031312Z",
          "iopub.status.busy": "2020-09-23T00:12:05.030478Z",
          "iopub.status.idle": "2020-09-23T00:12:05.895379Z",
          "shell.execute_reply": "2020-09-23T00:12:05.895951Z"
        },
        "id": "oZTImqg_CaW1",
        "colab": {
          "base_uri": "https://localhost:8080/",
          "height": 507
        },
        "outputId": "a64015ee-959b-4f0a-f161-7a94e15cf0f0"
      },
      "outputs": [
        {
          "output_type": "display_data",
          "data": {
            "text/plain": [
              "<Figure size 1000x1000 with 15 Axes>"
            ],
            "image/png": "[encoded data removed]"
          },
          "metadata": {}
        }
      ],
      "source": [
        "plt.figure(figsize=(10,10))\n",
        "for i in range(15):#primeros 15 imagenes\n",
        "    plt.subplot(5,5,i+1)\n",
        "    plt.xticks([])\n",
        "    plt.yticks([])\n",
        "    plt.grid(False)\n",
        "    plt.imshow(train_images[i], cmap=plt.cm.binary)\n",
        "    plt.xlabel(class_names[train_labels[i]])\n",
        "plt.show()"
      ]
    },
    {
      "cell_type": "code",
      "source": [
        "#cambios en modelo para ver si mejora (puse arriba el codigo porque como no mejoraba para que no afectara la secuencia del codigo)\n",
        "model = keras.Sequential([\n",
        "    keras.layers.Flatten(input_shape=(28, 28)),\n",
        "    keras.layers.Dense(256, activation='relu'),  # Cambio en el número de neuronas\n",
        "    keras.layers.Dropout(0.5),  # Agregar Dropout para regularización\n",
        "    keras.layers.Dense(128, activation='relu'),  # Capa oculta adicional\n",
        "    keras.layers.Dense(10, activation='softmax')\n",
        "])"
      ],
      "metadata": {
        "id": "BXR6t01tsDnl"
      },
      "execution_count": 48,
      "outputs": []
    },
    {
      "cell_type": "code",
      "source": [
        "model.compile(optimizer='adam',\n",
        "              loss='sparse_categorical_crossentropy',\n",
        "              metrics=['accuracy'])"
      ],
      "metadata": {
        "id": "QK_igAJisKDQ"
      },
      "execution_count": 49,
      "outputs": []
    },
    {
      "cell_type": "code",
      "source": [
        "model.fit(train_images, train_labels, epochs=15, batch_size=64)  # Cambio en el tamaño del lote"
      ],
      "metadata": {
        "colab": {
          "base_uri": "https://localhost:8080/"
        },
        "id": "0W_UKhX-sMre",
        "outputId": "f2bc7e60-79be-4677-9275-c048cdcb5c3b"
      },
      "execution_count": 50,
      "outputs": [
        {
          "output_type": "stream",
          "name": "stdout",
          "text": [
            "Epoch 1/15\n",
            "938/938 [==============================] - 11s 11ms/step - loss: 0.5963 - accuracy: 0.7823\n",
            "Epoch 2/15\n",
            "938/938 [==============================] - 7s 7ms/step - loss: 0.4530 - accuracy: 0.8337\n",
            "Epoch 3/15\n",
            "938/938 [==============================] - 9s 9ms/step - loss: 0.4203 - accuracy: 0.8452\n",
            "Epoch 4/15\n",
            "938/938 [==============================] - 6s 7ms/step - loss: 0.3971 - accuracy: 0.8558\n",
            "Epoch 5/15\n",
            "938/938 [==============================] - 8s 9ms/step - loss: 0.3795 - accuracy: 0.8595\n",
            "Epoch 6/15\n",
            "938/938 [==============================] - 7s 7ms/step - loss: 0.3672 - accuracy: 0.8632\n",
            "Epoch 7/15\n",
            "938/938 [==============================] - 8s 9ms/step - loss: 0.3599 - accuracy: 0.8665\n",
            "Epoch 8/15\n",
            "938/938 [==============================] - 7s 7ms/step - loss: 0.3495 - accuracy: 0.8702\n",
            "Epoch 9/15\n",
            "938/938 [==============================] - 8s 9ms/step - loss: 0.3423 - accuracy: 0.8723\n",
            "Epoch 10/15\n",
            "938/938 [==============================] - 7s 7ms/step - loss: 0.3355 - accuracy: 0.8763\n",
            "Epoch 11/15\n",
            "938/938 [==============================] - 8s 9ms/step - loss: 0.3280 - accuracy: 0.8788\n",
            "Epoch 12/15\n",
            "938/938 [==============================] - 7s 7ms/step - loss: 0.3245 - accuracy: 0.8803\n",
            "Epoch 13/15\n",
            "938/938 [==============================] - 8s 9ms/step - loss: 0.3189 - accuracy: 0.8809\n",
            "Epoch 14/15\n",
            "938/938 [==============================] - 7s 7ms/step - loss: 0.3168 - accuracy: 0.8824\n",
            "Epoch 15/15\n",
            "938/938 [==============================] - 8s 9ms/step - loss: 0.3137 - accuracy: 0.8831\n"
          ]
        },
        {
          "output_type": "execute_result",
          "data": {
            "text/plain": [
              "<keras.src.callbacks.History at 0x7bf006207fd0>"
            ]
          },
          "metadata": {},
          "execution_count": 50
        }
      ]
    },
    {
      "cell_type": "code",
      "source": [
        "test_loss, test_acc = model.evaluate(test_images,  test_labels, verbose=2)\n",
        "\n",
        "print('\\nTest accuracy:', test_acc)"
      ],
      "metadata": {
        "colab": {
          "base_uri": "https://localhost:8080/"
        },
        "id": "NVP2MarosPAl",
        "outputId": "43f5c5ce-0b44-4d67-a8d9-5e6d606510dd"
      },
      "execution_count": 51,
      "outputs": [
        {
          "output_type": "stream",
          "name": "stdout",
          "text": [
            "313/313 - 1s - loss: 0.3365 - accuracy: 0.8750 - 769ms/epoch - 2ms/step\n",
            "\n",
            "Test accuracy: 0.875\n"
          ]
        }
      ]
    },
    {
      "cell_type": "code",
      "execution_count": 52,
      "metadata": {
        "execution": {
          "iopub.execute_input": "2020-09-23T00:12:05.902968Z",
          "iopub.status.busy": "2020-09-23T00:12:05.900405Z",
          "iopub.status.idle": "2020-09-23T00:12:07.650519Z",
          "shell.execute_reply": "2020-09-23T00:12:07.650995Z"
        },
        "id": "9ODch-OFCaW4"
      },
      "outputs": [],
      "source": [
        "#modelo inicial\n",
        "model = keras.Sequential([\n",
        "    keras.layers.Flatten(input_shape=(28, 28)),#si cambia este num, linea 32 error, debido a que son los pixeles\n",
        "    keras.layers.Dense(128, activation='relu'),\n",
        "    keras.layers.Dense(10, activation='softmax')\n",
        "])"
      ]
    },
    {
      "cell_type": "code",
      "execution_count": 53,
      "metadata": {
        "execution": {
          "iopub.execute_input": "2020-09-23T00:12:07.663857Z",
          "iopub.status.busy": "2020-09-23T00:12:07.663044Z",
          "iopub.status.idle": "2020-09-23T00:12:07.670764Z",
          "shell.execute_reply": "2020-09-23T00:12:07.670104Z"
        },
        "id": "Lhan11blCaW7"
      },
      "outputs": [],
      "source": [
        "model.compile(optimizer='adam',\n",
        "              loss='sparse_categorical_crossentropy',\n",
        "              metrics=['accuracy'])"
      ]
    },
    {
      "cell_type": "code",
      "execution_count": 54,
      "metadata": {
        "execution": {
          "iopub.execute_input": "2020-09-23T00:12:07.675211Z",
          "iopub.status.busy": "2020-09-23T00:12:07.674345Z",
          "iopub.status.idle": "2020-09-23T00:12:36.454526Z",
          "shell.execute_reply": "2020-09-23T00:12:36.453882Z"
        },
        "id": "xvwvpA64CaW_",
        "colab": {
          "base_uri": "https://localhost:8080/"
        },
        "outputId": "44ac619c-af1f-43a8-b50d-741d3e159761"
      },
      "outputs": [
        {
          "output_type": "stream",
          "name": "stdout",
          "text": [
            "Epoch 1/15\n",
            "1875/1875 [==============================] - 10s 5ms/step - loss: 0.4976 - accuracy: 0.8240\n",
            "Epoch 2/15\n",
            "1875/1875 [==============================] - 7s 4ms/step - loss: 0.3754 - accuracy: 0.8644\n",
            "Epoch 3/15\n",
            "1875/1875 [==============================] - 9s 5ms/step - loss: 0.3366 - accuracy: 0.8767\n",
            "Epoch 4/15\n",
            "1875/1875 [==============================] - 7s 4ms/step - loss: 0.3117 - accuracy: 0.8870\n",
            "Epoch 5/15\n",
            "1875/1875 [==============================] - 9s 5ms/step - loss: 0.2950 - accuracy: 0.8906\n",
            "Epoch 6/15\n",
            "1875/1875 [==============================] - 7s 4ms/step - loss: 0.2803 - accuracy: 0.8957\n",
            "Epoch 7/15\n",
            "1875/1875 [==============================] - 9s 5ms/step - loss: 0.2683 - accuracy: 0.9004\n",
            "Epoch 8/15\n",
            "1875/1875 [==============================] - 8s 4ms/step - loss: 0.2564 - accuracy: 0.9058\n",
            "Epoch 9/15\n",
            "1875/1875 [==============================] - 8s 4ms/step - loss: 0.2479 - accuracy: 0.9078\n",
            "Epoch 10/15\n",
            "1875/1875 [==============================] - 9s 5ms/step - loss: 0.2388 - accuracy: 0.9120\n",
            "Epoch 11/15\n",
            "1875/1875 [==============================] - 7s 4ms/step - loss: 0.2327 - accuracy: 0.9121\n",
            "Epoch 12/15\n",
            "1875/1875 [==============================] - 9s 5ms/step - loss: 0.2258 - accuracy: 0.9158\n",
            "Epoch 13/15\n",
            "1875/1875 [==============================] - 7s 4ms/step - loss: 0.2189 - accuracy: 0.9179\n",
            "Epoch 14/15\n",
            "1875/1875 [==============================] - 9s 5ms/step - loss: 0.2131 - accuracy: 0.9203\n",
            "Epoch 15/15\n",
            "1875/1875 [==============================] - 8s 4ms/step - loss: 0.2080 - accuracy: 0.9227\n"
          ]
        },
        {
          "output_type": "execute_result",
          "data": {
            "text/plain": [
              "<keras.src.callbacks.History at 0x7bf0061b1fc0>"
            ]
          },
          "metadata": {},
          "execution_count": 54
        }
      ],
      "source": [
        "model.fit(train_images, train_labels, epochs=15)# los epochs se pueden modificar, ya que son las epocas"
      ]
    },
    {
      "cell_type": "code",
      "execution_count": 55,
      "metadata": {
        "execution": {
          "iopub.execute_input": "2020-09-23T00:12:36.459549Z",
          "iopub.status.busy": "2020-09-23T00:12:36.458790Z",
          "iopub.status.idle": "2020-09-23T00:12:37.082116Z",
          "shell.execute_reply": "2020-09-23T00:12:37.082547Z"
        },
        "id": "VflXLEeECaXC",
        "colab": {
          "base_uri": "https://localhost:8080/"
        },
        "outputId": "2506431c-9fc1-41a0-c87d-c009034d81b7"
      },
      "outputs": [
        {
          "output_type": "stream",
          "name": "stdout",
          "text": [
            "313/313 - 1s - loss: 0.3515 - accuracy: 0.8875 - 947ms/epoch - 3ms/step\n",
            "\n",
            "Test accuracy: 0.887499988079071\n"
          ]
        }
      ],
      "source": [
        "test_loss, test_acc = model.evaluate(test_images,  test_labels, verbose=2)\n",
        "\n",
        "print('\\nTest accuracy:', test_acc)"
      ]
    },
    {
      "cell_type": "code",
      "execution_count": 56,
      "metadata": {
        "execution": {
          "iopub.execute_input": "2020-09-23T00:12:37.087029Z",
          "iopub.status.busy": "2020-09-23T00:12:37.086398Z",
          "iopub.status.idle": "2020-09-23T00:12:37.407345Z",
          "shell.execute_reply": "2020-09-23T00:12:37.406539Z"
        },
        "id": "Gl91RPhdCaXI",
        "colab": {
          "base_uri": "https://localhost:8080/"
        },
        "outputId": "5004214f-909d-4fb2-b547-ab450614f1cf"
      },
      "outputs": [
        {
          "output_type": "stream",
          "name": "stdout",
          "text": [
            "313/313 [==============================] - 1s 3ms/step\n"
          ]
        }
      ],
      "source": [
        "predictions = model.predict(test_images)"
      ]
    },
    {
      "cell_type": "code",
      "execution_count": 57,
      "metadata": {
        "execution": {
          "iopub.execute_input": "2020-09-23T00:12:37.412550Z",
          "iopub.status.busy": "2020-09-23T00:12:37.411807Z",
          "iopub.status.idle": "2020-09-23T00:12:37.414437Z",
          "shell.execute_reply": "2020-09-23T00:12:37.414875Z"
        },
        "id": "3DmJEUinCaXK",
        "colab": {
          "base_uri": "https://localhost:8080/"
        },
        "outputId": "45d1bf38-5e17-445f-f719-54e86dee7d99"
      },
      "outputs": [
        {
          "output_type": "execute_result",
          "data": {
            "text/plain": [
              "array([3.7549652e-10, 3.1911022e-11, 3.1201187e-11, 1.7138543e-10,\n",
              "       1.5723560e-09, 8.4122447e-03, 9.5648023e-10, 4.4474318e-03,\n",
              "       2.0705913e-09, 9.8714036e-01], dtype=float32)"
            ]
          },
          "metadata": {},
          "execution_count": 57
        }
      ],
      "source": [
        "predictions[0]"
      ]
    },
    {
      "cell_type": "code",
      "execution_count": 58,
      "metadata": {
        "execution": {
          "iopub.execute_input": "2020-09-23T00:12:37.419598Z",
          "iopub.status.busy": "2020-09-23T00:12:37.418897Z",
          "iopub.status.idle": "2020-09-23T00:12:37.421942Z",
          "shell.execute_reply": "2020-09-23T00:12:37.421420Z"
        },
        "id": "qsqenuPnCaXO",
        "colab": {
          "base_uri": "https://localhost:8080/"
        },
        "outputId": "1f1682d2-45e0-437e-9d3b-06ad36023cee"
      },
      "outputs": [
        {
          "output_type": "execute_result",
          "data": {
            "text/plain": [
              "9"
            ]
          },
          "metadata": {},
          "execution_count": 58
        }
      ],
      "source": [
        "np.argmax(predictions[0])"
      ]
    },
    {
      "cell_type": "code",
      "execution_count": 59,
      "metadata": {
        "execution": {
          "iopub.execute_input": "2020-09-23T00:12:37.426275Z",
          "iopub.status.busy": "2020-09-23T00:12:37.425639Z",
          "iopub.status.idle": "2020-09-23T00:12:37.428526Z",
          "shell.execute_reply": "2020-09-23T00:12:37.428018Z"
        },
        "id": "Sd7Pgsu6CaXP",
        "colab": {
          "base_uri": "https://localhost:8080/"
        },
        "outputId": "ad850cea-4e1d-434a-ff12-8a6863d54b83"
      },
      "outputs": [
        {
          "output_type": "execute_result",
          "data": {
            "text/plain": [
              "9"
            ]
          },
          "metadata": {},
          "execution_count": 59
        }
      ],
      "source": [
        "test_labels[0]"
      ]
    },
    {
      "cell_type": "code",
      "execution_count": 60,
      "metadata": {
        "execution": {
          "iopub.execute_input": "2020-09-23T00:12:37.436576Z",
          "iopub.status.busy": "2020-09-23T00:12:37.435927Z",
          "iopub.status.idle": "2020-09-23T00:12:37.437739Z",
          "shell.execute_reply": "2020-09-23T00:12:37.438165Z"
        },
        "id": "DvYmmrpIy6Y1"
      },
      "outputs": [],
      "source": [
        "def plot_image(i, predictions_array, true_label, img):\n",
        "  predictions_array, true_label, img = predictions_array, true_label[i], img[i]\n",
        "  plt.grid(False)\n",
        "  plt.xticks([])\n",
        "  plt.yticks([])\n",
        "\n",
        "  plt.imshow(img, cmap=plt.cm.binary)\n",
        "\n",
        "  predicted_label = np.argmax(predictions_array)\n",
        "  if predicted_label == true_label:\n",
        "    color = 'blue'\n",
        "  else:\n",
        "    color = 'red'\n",
        "\n",
        "  plt.xlabel(\"{} {:2.0f}% ({})\".format(class_names[predicted_label],\n",
        "                                100*np.max(predictions_array),\n",
        "                                class_names[true_label]),\n",
        "                                color=color)\n",
        "\n",
        "def plot_value_array(i, predictions_array, true_label):\n",
        "  predictions_array, true_label = predictions_array, true_label[i]\n",
        "  plt.grid(False)\n",
        "  plt.xticks(range(10))#no se peuden cambiar el rango\n",
        "  plt.yticks([])\n",
        "  thisplot = plt.bar(range(10), predictions_array, color=\"#777777\")\n",
        "  plt.ylim([0, 1])\n",
        "  predicted_label = np.argmax(predictions_array)\n",
        "\n",
        "  thisplot[predicted_label].set_color('red')\n",
        "  thisplot[true_label].set_color('blue')"
      ]
    },
    {
      "cell_type": "code",
      "execution_count": 61,
      "metadata": {
        "execution": {
          "iopub.execute_input": "2020-09-23T00:12:37.447943Z",
          "iopub.status.busy": "2020-09-23T00:12:37.443377Z",
          "iopub.status.idle": "2020-09-23T00:12:37.559790Z",
          "shell.execute_reply": "2020-09-23T00:12:37.560326Z"
        },
        "id": "HV5jw-5HwSmO",
        "colab": {
          "base_uri": "https://localhost:8080/",
          "height": 291
        },
        "outputId": "8352268a-d3bf-477e-8469-8bbac35cd756"
      },
      "outputs": [
        {
          "output_type": "display_data",
          "data": {
            "text/plain": [
              "<Figure size 600x300 with 2 Axes>"
            ],
            "image/png": "[encoded data removed]"
          },
          "metadata": {}
        }
      ],
      "source": [
        "i = 0\n",
        "plt.figure(figsize=(6,3))\n",
        "plt.subplot(1,2,1)\n",
        "plot_image(i, predictions[i], test_labels, test_images)\n",
        "plt.subplot(1,2,2)\n",
        "plot_value_array(i, predictions[i],  test_labels)\n",
        "plt.show()"
      ]
    },
    {
      "cell_type": "code",
      "execution_count": 62,
      "metadata": {
        "execution": {
          "iopub.execute_input": "2020-09-23T00:12:37.574455Z",
          "iopub.status.busy": "2020-09-23T00:12:37.572922Z",
          "iopub.status.idle": "2020-09-23T00:12:37.679858Z",
          "shell.execute_reply": "2020-09-23T00:12:37.679297Z"
        },
        "id": "Ko-uzOufSCSe",
        "colab": {
          "base_uri": "https://localhost:8080/",
          "height": 291
        },
        "outputId": "b34adbca-053c-46b6-97c6-353c8070411c"
      },
      "outputs": [
        {
          "output_type": "display_data",
          "data": {
            "text/plain": [
              "<Figure size 600x300 with 2 Axes>"
            ],
            "image/png": "[encoded data removed]"
          },
          "metadata": {}
        }
      ],
      "source": [
        "i = 12\n",
        "plt.figure(figsize=(6,3))\n",
        "plt.subplot(1,2,1)\n",
        "plot_image(i, predictions[i], test_labels, test_images)\n",
        "plt.subplot(1,2,2)\n",
        "plot_value_array(i, predictions[i],  test_labels)\n",
        "plt.show()"
      ]
    },
    {
      "cell_type": "code",
      "source": [
        "i = 20   #nueva\n",
        "plt.figure(figsize=(6,3))\n",
        "plt.subplot(1,2,1)\n",
        "plot_image(i, predictions[i], test_labels, test_images)\n",
        "plt.subplot(1,2,2)\n",
        "plot_value_array(i, predictions[i],  test_labels)\n",
        "plt.show()"
      ],
      "metadata": {
        "colab": {
          "base_uri": "https://localhost:8080/",
          "height": 291
        },
        "id": "K92yhbuiDDmi",
        "outputId": "1c7298ae-a468-42ec-a87e-b3a01d07c837"
      },
      "execution_count": 63,
      "outputs": [
        {
          "output_type": "display_data",
          "data": {
            "text/plain": [
              "<Figure size 600x300 with 2 Axes>"
            ],
            "image/png": "[encoded data removed]"
          },
          "metadata": {}
        }
      ]
    },
    {
      "cell_type": "code",
      "execution_count": 64,
      "metadata": {
        "execution": {
          "iopub.execute_input": "2020-09-23T00:12:37.704262Z",
          "iopub.status.busy": "2020-09-23T00:12:37.703472Z",
          "iopub.status.idle": "2020-09-23T00:12:39.542467Z",
          "shell.execute_reply": "2020-09-23T00:12:39.543014Z"
        },
        "id": "hQlnbqaw2Qu_",
        "colab": {
          "base_uri": "https://localhost:8080/",
          "height": 407
        },
        "outputId": "b715ccb4-4863-485c-9765-c418c2bb080f"
      },
      "outputs": [
        {
          "output_type": "display_data",
          "data": {
            "text/plain": [
              "<Figure size 800x400 with 8 Axes>"
            ],
            "image/png": "[encoded data removed]"
          },
          "metadata": {}
        }
      ],
      "source": [
        "num_rows = 2\n",
        "num_cols = 2\n",
        "num_images = num_rows*num_cols\n",
        "plt.figure(figsize=(2*2*num_cols, 2*num_rows))\n",
        "for i in range(num_images):\n",
        "  plt.subplot(num_rows, 2*num_cols, 2*i+1)\n",
        "  plot_image(i, predictions[i], test_labels, test_images)\n",
        "  plt.subplot(num_rows, 2*num_cols, 2*i+2)\n",
        "  plot_value_array(i, predictions[i], test_labels)\n",
        "plt.tight_layout()\n",
        "plt.show()"
      ]
    },
    {
      "cell_type": "code",
      "execution_count": 65,
      "metadata": {
        "execution": {
          "iopub.execute_input": "2020-09-23T00:12:39.547795Z",
          "iopub.status.busy": "2020-09-23T00:12:39.547091Z",
          "iopub.status.idle": "2020-09-23T00:12:39.549226Z",
          "shell.execute_reply": "2020-09-23T00:12:39.549730Z"
        },
        "id": "yRJ7JU7JCaXT",
        "colab": {
          "base_uri": "https://localhost:8080/"
        },
        "outputId": "ba97c238-81f6-4b4f-8967-31f5db14f33a"
      },
      "outputs": [
        {
          "output_type": "stream",
          "name": "stdout",
          "text": [
            "(28, 28)\n"
          ]
        }
      ],
      "source": [
        "# Grab an image from the test dataset.\n",
        "img = test_images[1]\n",
        "\n",
        "print(img.shape)"
      ]
    },
    {
      "cell_type": "code",
      "execution_count": 66,
      "metadata": {
        "execution": {
          "iopub.execute_input": "2020-09-23T00:12:39.554000Z",
          "iopub.status.busy": "2020-09-23T00:12:39.553363Z",
          "iopub.status.idle": "2020-09-23T00:12:39.556184Z",
          "shell.execute_reply": "2020-09-23T00:12:39.555583Z"
        },
        "id": "lDFh5yF_CaXW",
        "colab": {
          "base_uri": "https://localhost:8080/"
        },
        "outputId": "1295e94f-d13a-4f88-d006-0904a5d5df40"
      },
      "outputs": [
        {
          "output_type": "stream",
          "name": "stdout",
          "text": [
            "(1, 28, 28)\n"
          ]
        }
      ],
      "source": [
        "# Add the image to a batch where it's the only member.\n",
        "img = (np.expand_dims(img,0))\n",
        "\n",
        "print(img.shape)"
      ]
    },
    {
      "cell_type": "code",
      "execution_count": 67,
      "metadata": {
        "execution": {
          "iopub.execute_input": "2020-09-23T00:12:39.560100Z",
          "iopub.status.busy": "2020-09-23T00:12:39.559462Z",
          "iopub.status.idle": "2020-09-23T00:12:39.595462Z",
          "shell.execute_reply": "2020-09-23T00:12:39.595894Z"
        },
        "id": "o_rzNSdrCaXY",
        "colab": {
          "base_uri": "https://localhost:8080/"
        },
        "outputId": "1bf2f528-bce4-4bcf-e914-b598a068fb34"
      },
      "outputs": [
        {
          "output_type": "stream",
          "name": "stdout",
          "text": [
            "1/1 [==============================] - 0s 24ms/step\n",
            "[[6.6917099e-05 6.5513060e-18 9.9942857e-01 1.3247458e-14 4.9841014e-04\n",
            "  1.8253401e-13 6.1290352e-06 1.8187551e-16 9.7169295e-14 1.1758661e-19]]\n"
          ]
        }
      ],
      "source": [
        "predictions_single = model.predict(img)\n",
        "\n",
        "print(predictions_single)"
      ]
    },
    {
      "cell_type": "code",
      "execution_count": 68,
      "metadata": {
        "execution": {
          "iopub.execute_input": "2020-09-23T00:12:39.613213Z",
          "iopub.status.busy": "2020-09-23T00:12:39.607790Z",
          "iopub.status.idle": "2020-09-23T00:12:39.693950Z",
          "shell.execute_reply": "2020-09-23T00:12:39.693294Z"
        },
        "id": "6Ai-cpLjO-3A",
        "colab": {
          "base_uri": "https://localhost:8080/",
          "height": 478
        },
        "outputId": "ede99ef9-bca0-47d2-fb97-71f4a2d84e23"
      },
      "outputs": [
        {
          "output_type": "display_data",
          "data": {
            "text/plain": [
              "<Figure size 640x480 with 1 Axes>"
            ],
            "image/png": "[encoded data removed]"
          },
          "metadata": {}
        }
      ],
      "source": [
        "plot_value_array(1, predictions_single[0], test_labels)\n",
        "_ = plt.xticks(range(10), class_names, rotation=45)"
      ]
    },
    {
      "cell_type": "code",
      "execution_count": 69,
      "metadata": {
        "execution": {
          "iopub.execute_input": "2020-09-23T00:12:39.698805Z",
          "iopub.status.busy": "2020-09-23T00:12:39.698163Z",
          "iopub.status.idle": "2020-09-23T00:12:39.701361Z",
          "shell.execute_reply": "2020-09-23T00:12:39.700720Z"
        },
        "id": "2tRmdq_8CaXb",
        "colab": {
          "base_uri": "https://localhost:8080/"
        },
        "outputId": "9e55d402-e1b2-4fce-f867-d74354e7431d"
      },
      "outputs": [
        {
          "output_type": "execute_result",
          "data": {
            "text/plain": [
              "2"
            ]
          },
          "metadata": {},
          "execution_count": 69
        }
      ],
      "source": [
        "np.argmax(predictions_single[0])"
      ]
    }
  ],
  "metadata": {
    "colab": {
      "provenance": []
    },
    "kernelspec": {
      "display_name": "Python 3 (ipykernel)",
      "language": "python",
      "name": "python3"
    },
    "language_info": {
      "codemirror_mode": {
        "name": "ipython",
        "version": 3
      },
      "file_extension": ".py",
      "mimetype": "text/x-python",
      "name": "python",
      "nbconvert_exporter": "python",
      "pygments_lexer": "ipython3",
      "version": "3.8.3"
    }
  },
  "nbformat": 4,
  "nbformat_minor": 0
}